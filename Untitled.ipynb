{
 "cells": [
  {
   "cell_type": "code",
   "execution_count": 1,
   "id": "445a326f-f72e-42cf-a891-e872d86c9a60",
   "metadata": {},
   "outputs": [],
   "source": [
    "import pandas as pd\n",
    "import numpy as np\n",
    "import matplotlib.pyplot as plt\n",
    "import seaborn as sns "
   ]
  },
  {
   "cell_type": "code",
   "execution_count": 2,
   "id": "4e332722-46ae-4332-b78c-7e626b9f6884",
   "metadata": {
    "collapsed": true,
    "jupyter": {
     "outputs_hidden": true
    }
   },
   "outputs": [
    {
     "data": {
      "text/html": [
       "<div>\n",
       "<style scoped>\n",
       "    .dataframe tbody tr th:only-of-type {\n",
       "        vertical-align: middle;\n",
       "    }\n",
       "\n",
       "    .dataframe tbody tr th {\n",
       "        vertical-align: top;\n",
       "    }\n",
       "\n",
       "    .dataframe thead th {\n",
       "        text-align: right;\n",
       "    }\n",
       "</style>\n",
       "<table border=\"1\" class=\"dataframe\">\n",
       "  <thead>\n",
       "    <tr style=\"text-align: right;\">\n",
       "      <th></th>\n",
       "      <th>Transaction ID</th>\n",
       "      <th>Date</th>\n",
       "      <th>Customer ID</th>\n",
       "      <th>Gender</th>\n",
       "      <th>Age</th>\n",
       "      <th>Product Category</th>\n",
       "      <th>Quantity</th>\n",
       "      <th>Price per Unit</th>\n",
       "      <th>Total Amount</th>\n",
       "    </tr>\n",
       "  </thead>\n",
       "  <tbody>\n",
       "    <tr>\n",
       "      <th>0</th>\n",
       "      <td>1</td>\n",
       "      <td>24-11-2023</td>\n",
       "      <td>C1</td>\n",
       "      <td>Male</td>\n",
       "      <td>34</td>\n",
       "      <td>Beauty</td>\n",
       "      <td>3</td>\n",
       "      <td>50</td>\n",
       "      <td>150</td>\n",
       "    </tr>\n",
       "    <tr>\n",
       "      <th>1</th>\n",
       "      <td>2</td>\n",
       "      <td>27-02-2023</td>\n",
       "      <td>C2</td>\n",
       "      <td>Female</td>\n",
       "      <td>26</td>\n",
       "      <td>Clothing</td>\n",
       "      <td>2</td>\n",
       "      <td>500</td>\n",
       "      <td>1000</td>\n",
       "    </tr>\n",
       "  </tbody>\n",
       "</table>\n",
       "</div>"
      ],
      "text/plain": [
       "   Transaction ID        Date Customer ID  Gender  Age Product Category  \\\n",
       "0               1  24-11-2023          C1    Male   34           Beauty   \n",
       "1               2  27-02-2023          C2  Female   26         Clothing   \n",
       "\n",
       "   Quantity  Price per Unit  Total Amount  \n",
       "0         3              50           150  \n",
       "1         2             500          1000  "
      ]
     },
     "execution_count": 2,
     "metadata": {},
     "output_type": "execute_result"
    }
   ],
   "source": [
    "data=pd.read_csv(\"Retail.csv\",parse_dates=True)\n",
    "data.head(2)"
   ]
  },
  {
   "cell_type": "markdown",
   "id": "8db3961a-2954-4e09-b5a5-314a7b5b9430",
   "metadata": {},
   "source": [
    "1.\tHow many transactions are there in the dataset?\n",
    "  "
   ]
  },
  {
   "cell_type": "code",
   "execution_count": 3,
   "id": "a9be8ad9-406d-4fd6-8af3-91c4c60860bf",
   "metadata": {},
   "outputs": [
    {
     "data": {
      "text/plain": [
       "1000"
      ]
     },
     "execution_count": 3,
     "metadata": {},
     "output_type": "execute_result"
    }
   ],
   "source": [
    "data.shape[0]"
   ]
  },
  {
   "cell_type": "markdown",
   "id": "a2d1d2ba-ed7a-416f-b68b-99c0591c6d97",
   "metadata": {},
   "source": [
    "2.\tWhat is the total number of unique customers?"
   ]
  },
  {
   "cell_type": "code",
   "execution_count": 4,
   "id": "cfeebdce-024b-47af-bfae-29a0bbdde78b",
   "metadata": {},
   "outputs": [
    {
     "name": "stdout",
     "output_type": "stream",
     "text": [
      "1000\n"
     ]
    }
   ],
   "source": [
    "o=data[\"Transaction ID\"].nunique()\n",
    "print(o)"
   ]
  },
  {
   "cell_type": "markdown",
   "id": "11e4be73-9818-434e-9810-39de7523bc4b",
   "metadata": {},
   "source": [
    "3.\tWhat are the counts of each gender in the dataset?"
   ]
  },
  {
   "cell_type": "code",
   "execution_count": 5,
   "id": "7dac3844-9064-4c45-8e7f-99af15082bda",
   "metadata": {},
   "outputs": [
    {
     "data": {
      "text/plain": [
       "Gender\n",
       "Female    510\n",
       "Male      490\n",
       "Name: count, dtype: int64"
      ]
     },
     "execution_count": 5,
     "metadata": {},
     "output_type": "execute_result"
    }
   ],
   "source": [
    "data[\"Gender\"].value_counts()"
   ]
  },
  {
   "cell_type": "markdown",
   "id": "460b6d03-dc6e-4a74-8fd2-4add3053f8d1",
   "metadata": {},
   "source": [
    "4.\tWhat is the distribution of customer ages?"
   ]
  },
  {
   "cell_type": "code",
   "execution_count": 6,
   "id": "cb74f221-5147-472d-8775-a022d7e4174a",
   "metadata": {},
   "outputs": [],
   "source": [
    "def categorized(Age):\n",
    "    if Age>=0 and Age <=14:\n",
    "        return \"child\"\n",
    "    elif Age>=15 and Age<=17:\n",
    "        return \"teenager\"\n",
    "    elif Age >=18 and Age <=50:\n",
    "        return\" adult\"\n",
    "    else:\n",
    "        return \"old\"\n",
    "data[\"Age_group\"]=data[\"Age\"].apply(categorized) \n"
   ]
  },
  {
   "cell_type": "code",
   "execution_count": 7,
   "id": "aa685689-064a-4419-8f0b-1df5cb83145e",
   "metadata": {},
   "outputs": [
    {
     "data": {
      "text/plain": [
       "Age_group\n",
       " adult    687\n",
       "old       313\n",
       "Name: count, dtype: int64"
      ]
     },
     "execution_count": 7,
     "metadata": {},
     "output_type": "execute_result"
    }
   ],
   "source": [
    "data[\"Age_group\"].value_counts()"
   ]
  },
  {
   "cell_type": "markdown",
   "id": "427c6b9d-3cba-4549-83c7-1936ea98bcb1",
   "metadata": {},
   "source": [
    "5.\tWhat are the unique product categories in the dataset?"
   ]
  },
  {
   "cell_type": "code",
   "execution_count": 8,
   "id": "dc65c719-afd0-4e57-a279-466943aa426e",
   "metadata": {},
   "outputs": [
    {
     "data": {
      "text/plain": [
       "array(['Beauty', 'Clothing', 'Electronics'], dtype=object)"
      ]
     },
     "execution_count": 8,
     "metadata": {},
     "output_type": "execute_result"
    }
   ],
   "source": [
    "data[\"Product Category\"].unique()"
   ]
  },
  {
   "cell_type": "markdown",
   "id": "fa732d8a-88df-4b74-851d-c68f78fba9c3",
   "metadata": {},
   "source": [
    "6.\tWhat is the total revenue (sum of Total Amount)?"
   ]
  },
  {
   "cell_type": "code",
   "execution_count": 9,
   "id": "ce941c23-4820-4df5-9dd2-148d394d5eda",
   "metadata": {},
   "outputs": [
    {
     "data": {
      "text/plain": [
       "np.int64(456000)"
      ]
     },
     "execution_count": 9,
     "metadata": {},
     "output_type": "execute_result"
    }
   ],
   "source": [
    "data[\"Total Amount\"].sum()"
   ]
  },
  {
   "cell_type": "markdown",
   "id": "03a1ed63-a0de-42e1-b998-963422c9c2e5",
   "metadata": {},
   "source": [
    "7.\tWhat is the average, minimum, and maximum Total Amount for a transaction?"
   ]
  },
  {
   "cell_type": "code",
   "execution_count": 10,
   "id": "58df1ce8-ab68-4f75-a79b-99e7b94bce24",
   "metadata": {},
   "outputs": [
    {
     "data": {
      "text/plain": [
       "np.int64(25)"
      ]
     },
     "execution_count": 10,
     "metadata": {},
     "output_type": "execute_result"
    }
   ],
   "source": [
    "data[\"Total Amount\"].mean()\n",
    "data[\"Total Amount\"].max()\n",
    "data[\"Total Amount\"].min()"
   ]
  },
  {
   "cell_type": "markdown",
   "id": "ffab69dc-94ca-4069-ac31-4b7147a047b8",
   "metadata": {},
   "source": [
    "8.\tWhich product category generates the highest total revenue?"
   ]
  },
  {
   "cell_type": "code",
   "execution_count": 11,
   "id": "e8a80f67-57cc-4a85-ad97-3ca84b862e7e",
   "metadata": {},
   "outputs": [
    {
     "data": {
      "text/plain": [
       "np.int64(456000)"
      ]
     },
     "execution_count": 11,
     "metadata": {},
     "output_type": "execute_result"
    }
   ],
   "source": [
    "data.groupby(\"Product Category\")[\"Total Amount\"].max()\n",
    "data[\"Total Amount\"].sum()"
   ]
  },
  {
   "cell_type": "markdown",
   "id": "8da43df9-c2ac-4449-b726-af48c23babff",
   "metadata": {},
   "source": [
    "9.\tWhat is the total quantity sold for each product category?"
   ]
  },
  {
   "cell_type": "code",
   "execution_count": 12,
   "id": "0835fe76-51b4-415e-acde-0c7435461aac",
   "metadata": {},
   "outputs": [
    {
     "data": {
      "text/plain": [
       "Product Category\n",
       "Beauty         771\n",
       "Clothing       894\n",
       "Electronics    849\n",
       "Name: Quantity, dtype: int64"
      ]
     },
     "execution_count": 12,
     "metadata": {},
     "output_type": "execute_result"
    }
   ],
   "source": [
    "data.groupby(\"Product Category\")[\"Quantity\"].sum()"
   ]
  },
  {
   "cell_type": "markdown",
   "id": "7726c158-d401-4b4d-ac79-4854085b7e72",
   "metadata": {},
   "source": [
    "10.\tWhich product category has the highest average price per unit?"
   ]
  },
  {
   "cell_type": "code",
   "execution_count": 13,
   "id": "330c973b-f633-46c3-97d2-d6fab8bcc701",
   "metadata": {},
   "outputs": [
    {
     "data": {
      "text/plain": [
       "Product Category\n",
       "Beauty         500\n",
       "Clothing       500\n",
       "Electronics    500\n",
       "Name: Price per Unit, dtype: int64"
      ]
     },
     "execution_count": 13,
     "metadata": {},
     "output_type": "execute_result"
    }
   ],
   "source": [
    "data.groupby(\"Product Category\")[\"Price per Unit\"].max()\n"
   ]
  },
  {
   "cell_type": "markdown",
   "id": "502fa6b4-486c-4741-8640-36487fa1e3ca",
   "metadata": {},
   "source": [
    "11.\tWhat is the average age of customers in the dataset?"
   ]
  },
  {
   "cell_type": "code",
   "execution_count": 14,
   "id": "16704fe8-53cf-4316-9981-f3bc3b13536d",
   "metadata": {},
   "outputs": [
    {
     "data": {
      "text/plain": [
       "np.float64(41.392)"
      ]
     },
     "execution_count": 14,
     "metadata": {},
     "output_type": "execute_result"
    }
   ],
   "source": [
    "data[\"Age\"].mean()"
   ]
  },
  {
   "cell_type": "markdown",
   "id": "85c36187-7519-421b-923e-1797743323e6",
   "metadata": {},
   "source": [
    "12. Which gender contributes the most to total revenue? "
   ]
  },
  {
   "cell_type": "code",
   "execution_count": 15,
   "id": "759b1be1-e111-40e4-8ef5-04216edf56dc",
   "metadata": {},
   "outputs": [
    {
     "data": {
      "text/plain": [
       "Transaction ID  Age    Quantity  Price per Unit  Total Amount\n",
       "246744          20300  1216      88055           223160          1\n",
       "253756          21092  1298      91835           232840          1\n",
       "Name: count, dtype: int64"
      ]
     },
     "execution_count": 15,
     "metadata": {},
     "output_type": "execute_result"
    }
   ],
   "source": [
    "data.groupby(\"Gender\").sum(\"Total Amount\").value_counts()"
   ]
  },
  {
   "cell_type": "markdown",
   "id": "e5eee903-4459-47a6-b587-e3f02987c96a",
   "metadata": {},
   "source": [
    "13. What is the total revenue and average revenue per customer? "
   ]
  },
  {
   "cell_type": "code",
   "execution_count": 16,
   "id": "a2b3a163-72d7-47f8-92d2-491f5aee7e77",
   "metadata": {},
   "outputs": [
    {
     "data": {
      "text/html": [
       "<div>\n",
       "<style scoped>\n",
       "    .dataframe tbody tr th:only-of-type {\n",
       "        vertical-align: middle;\n",
       "    }\n",
       "\n",
       "    .dataframe tbody tr th {\n",
       "        vertical-align: top;\n",
       "    }\n",
       "\n",
       "    .dataframe thead th {\n",
       "        text-align: right;\n",
       "    }\n",
       "</style>\n",
       "<table border=\"1\" class=\"dataframe\">\n",
       "  <thead>\n",
       "    <tr style=\"text-align: right;\">\n",
       "      <th></th>\n",
       "      <th>Transaction ID</th>\n",
       "      <th>Age</th>\n",
       "      <th>Quantity</th>\n",
       "      <th>Price per Unit</th>\n",
       "      <th>Total Amount</th>\n",
       "    </tr>\n",
       "    <tr>\n",
       "      <th>Customer ID</th>\n",
       "      <th></th>\n",
       "      <th></th>\n",
       "      <th></th>\n",
       "      <th></th>\n",
       "      <th></th>\n",
       "    </tr>\n",
       "  </thead>\n",
       "  <tbody>\n",
       "    <tr>\n",
       "      <th>C1</th>\n",
       "      <td>1.0</td>\n",
       "      <td>34.0</td>\n",
       "      <td>3.0</td>\n",
       "      <td>50.0</td>\n",
       "      <td>150.0</td>\n",
       "    </tr>\n",
       "    <tr>\n",
       "      <th>C10</th>\n",
       "      <td>10.0</td>\n",
       "      <td>52.0</td>\n",
       "      <td>4.0</td>\n",
       "      <td>50.0</td>\n",
       "      <td>200.0</td>\n",
       "    </tr>\n",
       "    <tr>\n",
       "      <th>C100</th>\n",
       "      <td>100.0</td>\n",
       "      <td>41.0</td>\n",
       "      <td>1.0</td>\n",
       "      <td>30.0</td>\n",
       "      <td>30.0</td>\n",
       "    </tr>\n",
       "    <tr>\n",
       "      <th>C1000</th>\n",
       "      <td>1000.0</td>\n",
       "      <td>47.0</td>\n",
       "      <td>4.0</td>\n",
       "      <td>30.0</td>\n",
       "      <td>120.0</td>\n",
       "    </tr>\n",
       "    <tr>\n",
       "      <th>C101</th>\n",
       "      <td>101.0</td>\n",
       "      <td>32.0</td>\n",
       "      <td>2.0</td>\n",
       "      <td>300.0</td>\n",
       "      <td>600.0</td>\n",
       "    </tr>\n",
       "    <tr>\n",
       "      <th>...</th>\n",
       "      <td>...</td>\n",
       "      <td>...</td>\n",
       "      <td>...</td>\n",
       "      <td>...</td>\n",
       "      <td>...</td>\n",
       "    </tr>\n",
       "    <tr>\n",
       "      <th>C995</th>\n",
       "      <td>995.0</td>\n",
       "      <td>41.0</td>\n",
       "      <td>1.0</td>\n",
       "      <td>30.0</td>\n",
       "      <td>30.0</td>\n",
       "    </tr>\n",
       "    <tr>\n",
       "      <th>C996</th>\n",
       "      <td>996.0</td>\n",
       "      <td>62.0</td>\n",
       "      <td>1.0</td>\n",
       "      <td>50.0</td>\n",
       "      <td>50.0</td>\n",
       "    </tr>\n",
       "    <tr>\n",
       "      <th>C997</th>\n",
       "      <td>997.0</td>\n",
       "      <td>52.0</td>\n",
       "      <td>3.0</td>\n",
       "      <td>30.0</td>\n",
       "      <td>90.0</td>\n",
       "    </tr>\n",
       "    <tr>\n",
       "      <th>C998</th>\n",
       "      <td>998.0</td>\n",
       "      <td>23.0</td>\n",
       "      <td>4.0</td>\n",
       "      <td>25.0</td>\n",
       "      <td>100.0</td>\n",
       "    </tr>\n",
       "    <tr>\n",
       "      <th>C999</th>\n",
       "      <td>999.0</td>\n",
       "      <td>36.0</td>\n",
       "      <td>3.0</td>\n",
       "      <td>50.0</td>\n",
       "      <td>150.0</td>\n",
       "    </tr>\n",
       "  </tbody>\n",
       "</table>\n",
       "<p>1000 rows × 5 columns</p>\n",
       "</div>"
      ],
      "text/plain": [
       "             Transaction ID   Age  Quantity  Price per Unit  Total Amount\n",
       "Customer ID                                                              \n",
       "C1                      1.0  34.0       3.0            50.0         150.0\n",
       "C10                    10.0  52.0       4.0            50.0         200.0\n",
       "C100                  100.0  41.0       1.0            30.0          30.0\n",
       "C1000                1000.0  47.0       4.0            30.0         120.0\n",
       "C101                  101.0  32.0       2.0           300.0         600.0\n",
       "...                     ...   ...       ...             ...           ...\n",
       "C995                  995.0  41.0       1.0            30.0          30.0\n",
       "C996                  996.0  62.0       1.0            50.0          50.0\n",
       "C997                  997.0  52.0       3.0            30.0          90.0\n",
       "C998                  998.0  23.0       4.0            25.0         100.0\n",
       "C999                  999.0  36.0       3.0            50.0         150.0\n",
       "\n",
       "[1000 rows x 5 columns]"
      ]
     },
     "execution_count": 16,
     "metadata": {},
     "output_type": "execute_result"
    }
   ],
   "source": [
    "data.groupby(\"Customer ID\").sum(\"Total Amount\")\n",
    "data.groupby(\"Customer ID\").mean(\"Total Amount\")"
   ]
  },
  {
   "cell_type": "markdown",
   "id": "c6704a51-ba94-466c-bd99-5764cfffeda3",
   "metadata": {},
   "source": [
    "14. Who are the top 10 customers based on total spending? "
   ]
  },
  {
   "cell_type": "code",
   "execution_count": 17,
   "id": "0d76de56-33d0-4a05-afb8-e9ee57c0bbb1",
   "metadata": {},
   "outputs": [
    {
     "data": {
      "text/plain": [
       "Customer ID\n",
       "C109    2000\n",
       "C664    2000\n",
       "C700    2000\n",
       "C927    2000\n",
       "C93     2000\n",
       "C139    2000\n",
       "C65     2000\n",
       "C476    2000\n",
       "C773    2000\n",
       "C124    2000\n",
       "Name: Total Amount, dtype: int64"
      ]
     },
     "execution_count": 17,
     "metadata": {},
     "output_type": "execute_result"
    }
   ],
   "source": [
    "data.groupby(\"Customer ID\")[\"Total Amount\"].sum().sort_values(ascending=False).head(10)"
   ]
  },
  {
   "cell_type": "markdown",
   "id": "84de636a-10da-40c8-b99d-422e6f7f1b42",
   "metadata": {},
   "source": [
    "15. What is the distribution of transactions across different age groups (e.g., 18-25, 26-35)? "
   ]
  },
  {
   "cell_type": "code",
   "execution_count": 18,
   "id": "3a54eb68-29e3-4b7f-bb06-6934e9b880ac",
   "metadata": {},
   "outputs": [
    {
     "data": {
      "text/html": [
       "<div>\n",
       "<style scoped>\n",
       "    .dataframe tbody tr th:only-of-type {\n",
       "        vertical-align: middle;\n",
       "    }\n",
       "\n",
       "    .dataframe tbody tr th {\n",
       "        vertical-align: top;\n",
       "    }\n",
       "\n",
       "    .dataframe thead th {\n",
       "        text-align: right;\n",
       "    }\n",
       "</style>\n",
       "<table border=\"1\" class=\"dataframe\">\n",
       "  <thead>\n",
       "    <tr style=\"text-align: right;\">\n",
       "      <th></th>\n",
       "      <th>Transaction ID</th>\n",
       "      <th>Date</th>\n",
       "      <th>Customer ID</th>\n",
       "      <th>Gender</th>\n",
       "      <th>Age</th>\n",
       "      <th>Product Category</th>\n",
       "      <th>Quantity</th>\n",
       "      <th>Price per Unit</th>\n",
       "      <th>Total Amount</th>\n",
       "      <th>Age_group</th>\n",
       "    </tr>\n",
       "  </thead>\n",
       "  <tbody>\n",
       "    <tr>\n",
       "      <th>0</th>\n",
       "      <td>1</td>\n",
       "      <td>24-11-2023</td>\n",
       "      <td>C1</td>\n",
       "      <td>Male</td>\n",
       "      <td>34</td>\n",
       "      <td>Beauty</td>\n",
       "      <td>3</td>\n",
       "      <td>50</td>\n",
       "      <td>150</td>\n",
       "      <td>adult</td>\n",
       "    </tr>\n",
       "    <tr>\n",
       "      <th>1</th>\n",
       "      <td>2</td>\n",
       "      <td>27-02-2023</td>\n",
       "      <td>C2</td>\n",
       "      <td>Female</td>\n",
       "      <td>26</td>\n",
       "      <td>Clothing</td>\n",
       "      <td>2</td>\n",
       "      <td>500</td>\n",
       "      <td>1000</td>\n",
       "      <td>adult</td>\n",
       "    </tr>\n",
       "  </tbody>\n",
       "</table>\n",
       "</div>"
      ],
      "text/plain": [
       "   Transaction ID        Date Customer ID  Gender  Age Product Category  \\\n",
       "0               1  24-11-2023          C1    Male   34           Beauty   \n",
       "1               2  27-02-2023          C2  Female   26         Clothing   \n",
       "\n",
       "   Quantity  Price per Unit  Total Amount Age_group  \n",
       "0         3              50           150     adult  \n",
       "1         2             500          1000     adult  "
      ]
     },
     "execution_count": 18,
     "metadata": {},
     "output_type": "execute_result"
    }
   ],
   "source": [
    "data.head(2)"
   ]
  },
  {
   "cell_type": "code",
   "execution_count": 19,
   "id": "09e91fe0-d0f3-4d70-b80c-e639454505f5",
   "metadata": {},
   "outputs": [
    {
     "data": {
      "image/png": "[encoded data removed]",
      "text/plain": [
       "<Figure size 640x480 with 1 Axes>"
      ]
     },
     "metadata": {},
     "output_type": "display_data"
    }
   ],
   "source": [
    "sns.countplot(data=data,x=\"Age_group\")\n",
    "plt.show()\n"
   ]
  },
  {
   "cell_type": "code",
   "execution_count": null,
   "id": "d93a1d35-0147-4ed8-8b0e-b566bb70c61a",
   "metadata": {},
   "outputs": [],
   "source": [
    "20. How does customer spending vary by time of year ? "
   ]
  },
  {
   "cell_type": "code",
   "execution_count": 47,
   "id": "04a94637-5546-46cc-ab01-f5ce8776160f",
   "metadata": {},
   "outputs": [
    {
     "data": {
      "image/png": "[encoded data removed]",
      "text/plain": [
       "<Figure size 640x480 with 1 Axes>"
      ]
     },
     "metadata": {},
     "output_type": "display_data"
    }
   ],
   "source": [
    "sns.countplot(data=data,x=\"Month\")\n",
    "plt.show()"
   ]
  },
  {
   "cell_type": "markdown",
   "id": "b64fd126-25ed-4ef1-bee7-51f09d79c8aa",
   "metadata": {},
   "source": [
    "Customer spending increse s during summer time ."
   ]
  },
  {
   "cell_type": "markdown",
   "id": "3ca9cd39-0eb8-4c62-b978-20b90dac8538",
   "metadata": {},
   "source": [
    " What is the correlation between age and total spending? "
   ]
  },
  {
   "cell_type": "code",
   "execution_count": 49,
   "id": "0d3e8e17-666d-4b3d-9465-e69473ca59f4",
   "metadata": {},
   "outputs": [
    {
     "data": {
      "text/plain": [
       "np.float64(-0.060568023883045635)"
      ]
     },
     "execution_count": 49,
     "metadata": {},
     "output_type": "execute_result"
    }
   ],
   "source": [
    "data[\"Age\"].corr(data[\"Total Amount\"])"
   ]
  },
  {
   "cell_type": "markdown",
   "id": "b659a0a6-8825-4b3c-ac97-6c679fbcdbbb",
   "metadata": {},
   "source": [
    "Correlation between Age and Total spending is negetive \n",
    "IT MEAN AS AGE INCRESES  TOTAL SPENDING  DECRESES"
   ]
  },
  {
   "cell_type": "markdown",
   "id": "5286a718-dfe9-46f9-8126-67b9347c71df",
   "metadata": {},
   "source": [
    "Is there a significant difference in average spending between genders? "
   ]
  },
  {
   "cell_type": "code",
   "execution_count": 58,
   "id": "990f9f06-fe97-4804-9bc1-466b9ef93942",
   "metadata": {},
   "outputs": [
    {
     "name": "stdout",
     "output_type": "stream",
     "text": [
      "1.1204481792717047\n"
     ]
    },
    {
     "name": "stderr",
     "output_type": "stream",
     "text": [
      "C:\\Users\\sonu_\\AppData\\Local\\Temp\\ipykernel_12340\\870721859.py:1: FutureWarning: Series.__getitem__ treating keys as positions is deprecated. In a future version, integer keys will always be treated as labels (consistent with DataFrame behavior). To access a value by position, use `ser.iloc[pos]`\n",
      "  Female=data.groupby(\"Gender\")[\"Total Amount\"].mean()[0]\n",
      "C:\\Users\\sonu_\\AppData\\Local\\Temp\\ipykernel_12340\\870721859.py:2: FutureWarning: Series.__getitem__ treating keys as positions is deprecated. In a future version, integer keys will always be treated as labels (consistent with DataFrame behavior). To access a value by position, use `ser.iloc[pos]`\n",
      "  Male=data.groupby(\"Gender\")[\"Total Amount\"].mean()[1]\n"
     ]
    }
   ],
   "source": [
    "Female=data.groupby(\"Gender\")[\"Total Amount\"].mean()[0]\n",
    "Male=data.groupby(\"Gender\")[\"Total Amount\"].mean()[1]\n",
    "Difference_between_average_spending=Female-Male\n",
    "print(Difference_between_average_spending)\n"
   ]
  },
  {
   "cell_type": "markdown",
   "id": "ecb2eb11-a427-44d6-9734-e392e6a1ba0b",
   "metadata": {},
   "source": [
    "THERE IS NOT SIGNIFICANT DIFFERENCE BETWEEN GENDER WISE AVERAGE SPENDING"
   ]
  },
  {
   "cell_type": "markdown",
   "id": "69b86087-c022-4cc3-b33e-3acfcc3e51ae",
   "metadata": {},
   "source": [
    " What is the average revenue per product category? "
   ]
  },
  {
   "cell_type": "code",
   "execution_count": 60,
   "id": "62f200de-f64b-4af1-a4a7-ab2da83af5ad",
   "metadata": {},
   "outputs": [
    {
     "data": {
      "text/plain": [
       "Product Category\n",
       "Beauty         467.475570\n",
       "Clothing       443.247863\n",
       "Electronics    458.786550\n",
       "Name: Total Amount, dtype: float64"
      ]
     },
     "execution_count": 60,
     "metadata": {},
     "output_type": "execute_result"
    }
   ],
   "source": [
    "data.groupby(\"Product Category\")[\"Total Amount\"].mean()"
   ]
  },
  {
   "cell_type": "code",
   "execution_count": null,
   "id": "78901b03-b66b-470a-89e2-0d103a94ace4",
   "metadata": {},
   "outputs": [],
   "source": []
  }
 ],
 "metadata": {
  "kernelspec": {
   "display_name": "Python 3 (ipykernel)",
   "language": "python",
   "name": "python3"
  },
  "language_info": {
   "codemirror_mode": {
    "name": "ipython",
    "version": 3
   },
   "file_extension": ".py",
   "mimetype": "text/x-python",
   "name": "python",
   "nbconvert_exporter": "python",
   "pygments_lexer": "ipython3",
   "version": "3.12.4"
  }
 },
 "nbformat": 4,
 "nbformat_minor": 5
}
